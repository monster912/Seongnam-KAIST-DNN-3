{
 "cells": [
  {
   "cell_type": "markdown",
   "metadata": {},
   "source": [
    "# MNIST Hand-written digit classification\n",
    "\n",
    "### 2019/3/22 성남-KAIST 인공지능 집중교육과정\n",
    "\n",
    "***Tip> shotcuts for Jupyter Notebook***\n",
    "* Shift + Enter : run cell and select below\n",
    "\n",
    "***Library***\n",
    "* Numpy: Fundamenta package for scientific computing with Python\n",
    "* Tensorflow: An open source machine learning library for research and production\n",
    "* Matplotlib: Python 2D plottin glibrary"
   ]
  },
  {
   "cell_type": "code",
   "execution_count": 1,
   "metadata": {},
   "outputs": [],
   "source": [
    "from __future__ import print_function\n",
    "from collections import namedtuple\n",
    "from functools import partial\n",
    "\n",
    "import numpy as np\n",
    "import tensorflow as tf\n",
    "import matplotlib.pyplot as plt\n",
    "import time\n",
    "\n",
    "from tensorflow.examples.tutorials.mnist import input_data\n",
    "from tensorflow.python.training import moving_averages\n",
    "\n",
    "tf.logging.set_verbosity(tf.logging.ERROR)"
   ]
  },
  {
   "cell_type": "markdown",
   "metadata": {},
   "source": [
    "## 1. Prepare the data\n",
    "### <a href=http://yann.lecun.com/exdb/mnist/>MNIST dataset</a>\n",
    "The MNIST has a training set of 55,000 examples, a validation set of 5,000 examples and a test set of 10,000 examples."
   ]
  },
  {
   "cell_type": "code",
   "execution_count": 2,
   "metadata": {},
   "outputs": [
    {
     "name": "stdout",
     "output_type": "stream",
     "text": [
      "Extracting ./data/train-images-idx3-ubyte.gz\n",
      "Extracting ./data/train-labels-idx1-ubyte.gz\n",
      "Extracting ./data/t10k-images-idx3-ubyte.gz\n",
      "Extracting ./data/t10k-labels-idx1-ubyte.gz\n"
     ]
    }
   ],
   "source": [
    "mnist = input_data.read_data_sets('./data/', one_hot=True)"
   ]
  },
  {
   "cell_type": "markdown",
   "metadata": {},
   "source": [
    "Load the training dataset"
   ]
  },
  {
   "cell_type": "code",
   "execution_count": 3,
   "metadata": {},
   "outputs": [],
   "source": [
    "train_images = mnist.train.images\n",
    "train_labels = mnist.train.labels\n",
    "train_images = train_images.reshape([-1, 28, 28, 1])"
   ]
  },
  {
   "cell_type": "markdown",
   "metadata": {},
   "source": [
    "Load the validation sets"
   ]
  },
  {
   "cell_type": "code",
   "execution_count": 4,
   "metadata": {},
   "outputs": [],
   "source": [
    "val_images = mnist.validation.images\n",
    "val_labels = mnist.validation.labels\n",
    "val_images = val_images.reshape([-1, 28, 28, 1])"
   ]
  },
  {
   "cell_type": "markdown",
   "metadata": {},
   "source": [
    "Plot the 1st hand-written digit and its one-hot label"
   ]
  },
  {
   "cell_type": "code",
   "execution_count": 5,
   "metadata": {},
   "outputs": [
    {
     "name": "stdout",
     "output_type": "stream",
     "text": [
      "\n",
      "One-hot labels for this image:\n",
      "[0. 0. 0. 0. 0. 0. 0. 1. 0. 0.]\n"
     ]
    },
    {
     "data": {
      "image/png": "[encoded data removed]",
      "text/plain": [
       "<Figure size 432x288 with 1 Axes>"
      ]
     },
     "metadata": {
      "needs_background": "light"
     },
     "output_type": "display_data"
    }
   ],
   "source": [
    "plt.imshow(train_images[0,:,:,0], cmap='Greys')\n",
    "print(\"\\nOne-hot labels for this image:\")\n",
    "print(train_labels[0])"
   ]
  },
  {
   "cell_type": "markdown",
   "metadata": {},
   "source": [
    "## 2. Build a graph"
   ]
  },
  {
   "cell_type": "markdown",
   "metadata": {},
   "source": [
    "### Set hyperparameters\n",
    "- ***log_dir*** : Directory name to save models\n",
    "- ***n_epochs*** : Maximun training epoch\n",
    "- ***n_outputs*** : The number of classes for labels\n",
    "- ***init_lr*** : Learning rate for gradient descent\n",
    "- ***l2_lambda*** : regularization parameter\n",
    "- ***batch_size*** : The number of images to update paramerters once"
   ]
  },
  {
   "cell_type": "code",
   "execution_count": 6,
   "metadata": {},
   "outputs": [],
   "source": [
    "log_dir = 'logs/'\n",
    "n_epochs = 20\n",
    "n_outputs = 10\n",
    "init_lr = 0.01\n",
    "batch_size = 100\n",
    "l2_lambda = 0.0001"
   ]
  },
  {
   "cell_type": "markdown",
   "metadata": {},
   "source": [
    "### Placeholder for learning rate, input images and labels"
   ]
  },
  {
   "cell_type": "code",
   "execution_count": 7,
   "metadata": {},
   "outputs": [],
   "source": [
    "lrn_rate = tf.placeholder(tf.float32, shape=(), name='lrn_rate')\n",
    "images = tf.placeholder(tf.float32, shape=(None, 28, 28, 1), name='images')\n",
    "labels = tf.placeholder(tf.int32, shape=(None), name='labels')"
   ]
  },
  {
   "cell_type": "code",
   "execution_count": 8,
   "metadata": {},
   "outputs": [],
   "source": [
    "def DNN(images):\n",
    "    w_init = tf.variance_scaling_initializer()\n",
    "    b_init = tf.constant_initializer(0.)\n",
    "    \n",
    "    ## 1st hidden layer\n",
    "    w1 = tf.get_variable('weight1', shape=[28*28, 200], initializer=w_init)     # weight for 1st hidden layer which have 200 units\n",
    "    b1 = tf.get_variable('biases1', shape=[200], initializer=b_init)            # bias for 1st hidden layer which have 200 units\n",
    "    h  = tf.matmul(images, w1) + b1                                             # matrix multiplication\n",
    "    h  = tf.layers.batch_normalization(h)                                       # batch normalization\n",
    "    h  = tf.nn.relu(h)                                                          # relu activation\n",
    "\n",
    "    ## 2nd hidden layer\n",
    "    w2 = tf.get_variable('weight2', shape=[200, 100], initializer=w_init)       # weight for 2nd hidden layer which have 100 units\n",
    "    b2 = tf.get_variable('biases2', shape=[100], initializer=b_init)             # bias for 2nd hidden layer which have 100 units\n",
    "    h  = tf.matmul(h, w2) + b2                                                  # matrix multiplication\n",
    "    h  = tf.layers.batch_normalization(h)                                       # batch_normalization\n",
    "    h  = tf.nn.relu(h)                                                          # relu activation\n",
    "    \n",
    "    return h"
   ]
  },
  {
   "cell_type": "markdown",
   "metadata": {},
   "source": [
    "### Build a model"
   ]
  },
  {
   "cell_type": "code",
   "execution_count": 9,
   "metadata": {},
   "outputs": [],
   "source": [
    "global_step = tf.Variable(0, trainable=False)\n",
    "\n",
    "## Reshape\n",
    "inputs = tf.reshape(images, [-1, 28*28])\n",
    "\n",
    "with tf.variable_scope('embed') as scope:\n",
    "    feats = DNN(inputs)\n",
    "\n",
    "## Logits\n",
    "logits = tf.layers.dense(feats, n_outputs, kernel_initializer=tf.uniform_unit_scaling_initializer(factor=2.0), \n",
    "                                               kernel_regularizer=tf.contrib.layers.l2_regularizer(l2_lambda))\n",
    "\n",
    "## Evaluation\n",
    "correct = tf.nn.in_top_k(logits, labels, 1)\n",
    "accuracy = tf.reduce_mean(tf.cast(correct, tf.float32))\n",
    "\n",
    "## SOFTMAX\n",
    "preds = tf.nn.softmax(logits)\n",
    "\n",
    "## Cost function\n",
    "cent = tf.nn.softmax_cross_entropy_with_logits_v2(logits=logits, labels=labels)\n",
    "loss = tf.reduce_mean(cent, name='cent')"
   ]
  },
  {
   "cell_type": "markdown",
   "metadata": {},
   "source": [
    "### L2 regularization"
   ]
  },
  {
   "cell_type": "code",
   "execution_count": 10,
   "metadata": {},
   "outputs": [],
   "source": [
    "all_var = [var for var in tf.trainable_variables() ]\n",
    "l2_losses = []\n",
    "for var in all_var:\n",
    "    if var.op.name.find('weight') == 0:\n",
    "        l2_losses.append(tf.nn.l2_loss(var))\n",
    "\n",
    "reg_losses = loss + l2_lambda * tf.reduce_sum(l2_losses)"
   ]
  },
  {
   "cell_type": "markdown",
   "metadata": {},
   "source": [
    "### Momentum optimizer"
   ]
  },
  {
   "cell_type": "code",
   "execution_count": 11,
   "metadata": {},
   "outputs": [],
   "source": [
    "optimizer = tf.train.MomentumOptimizer(init_lr, 0.9, use_nesterov=True)                  # Momentum optimizer\n",
    "train_op = optimizer.minimize(reg_losses)"
   ]
  },
  {
   "cell_type": "markdown",
   "metadata": {},
   "source": [
    "# 3. Train a model"
   ]
  },
  {
   "cell_type": "markdown",
   "metadata": {},
   "source": [
    "### Create a session and initialize parameters\n",
    "Tensorflow operations must be executed in the session."
   ]
  },
  {
   "cell_type": "code",
   "execution_count": 12,
   "metadata": {},
   "outputs": [],
   "source": [
    "## MAKE SESSION\n",
    "sess = tf.Session()\n",
    "\n",
    "## INITIALIZE SESSION\n",
    "sess.run(tf.global_variables_initializer())"
   ]
  },
  {
   "cell_type": "markdown",
   "metadata": {},
   "source": [
    "### Updates parameters with back-propagation"
   ]
  },
  {
   "cell_type": "code",
   "execution_count": 13,
   "metadata": {},
   "outputs": [
    {
     "name": "stdout",
     "output_type": "stream",
     "text": [
      "  [*] TRAINING Iteration 0, Loss: 0.2236, Acc: 0.9500 (duration: 1.007s)\n",
      "  [*] VALIDATION ACC: 0.945\n",
      "  [*] TRAINING Iteration 1, Loss: 0.1966, Acc: 0.9200 (duration: 1.991s)\n",
      "  [*] TRAINING Iteration 2, Loss: 0.1192, Acc: 0.9700 (duration: 2.944s)\n",
      "  [*] TRAINING Iteration 3, Loss: 0.0503, Acc: 0.9900 (duration: 3.896s)\n",
      "  [*] TRAINING Iteration 4, Loss: 0.0687, Acc: 0.9800 (duration: 4.852s)\n",
      "  [*] TRAINING Iteration 5, Loss: 0.0296, Acc: 1.0000 (duration: 5.802s)\n",
      "  [*] VALIDATION ACC: 0.978\n",
      "  [*] TRAINING Iteration 6, Loss: 0.0177, Acc: 1.0000 (duration: 6.791s)\n",
      "  [*] TRAINING Iteration 7, Loss: 0.0500, Acc: 0.9900 (duration: 7.732s)\n",
      "  [*] TRAINING Iteration 8, Loss: 0.0310, Acc: 1.0000 (duration: 8.672s)\n",
      "  [*] TRAINING Iteration 9, Loss: 0.0103, Acc: 1.0000 (duration: 9.625s)\n",
      "  [*] TRAINING Iteration 10, Loss: 0.0461, Acc: 0.9900 (duration: 10.572s)\n",
      "  [*] VALIDATION ACC: 0.982\n",
      "  [*] TRAINING Iteration 11, Loss: 0.0239, Acc: 1.0000 (duration: 11.527s)\n",
      "  [*] TRAINING Iteration 12, Loss: 0.0264, Acc: 0.9900 (duration: 12.482s)\n",
      "  [*] TRAINING Iteration 13, Loss: 0.0095, Acc: 1.0000 (duration: 13.439s)\n",
      "  [*] TRAINING Iteration 14, Loss: 0.0298, Acc: 0.9900 (duration: 14.403s)\n",
      "  [*] TRAINING Iteration 15, Loss: 0.0035, Acc: 1.0000 (duration: 15.434s)\n",
      "  [*] VALIDATION ACC: 0.982\n",
      "  [*] TRAINING Iteration 16, Loss: 0.0095, Acc: 1.0000 (duration: 16.469s)\n",
      "  [*] TRAINING Iteration 17, Loss: 0.0127, Acc: 1.0000 (duration: 17.465s)\n",
      "  [*] TRAINING Iteration 18, Loss: 0.0012, Acc: 1.0000 (duration: 18.446s)\n",
      "  [*] TRAINING Iteration 19, Loss: 0.0035, Acc: 1.0000 (duration: 19.506s)\n",
      "  [*] TRAINING Iteration 20, Loss: 0.0016, Acc: 1.0000 (duration: 20.471s)\n",
      "  [*] VALIDATION ACC: 0.985\n",
      "Optimization done.\n"
     ]
    }
   ],
   "source": [
    "start_time = time.time()\n",
    "\n",
    "for epoch in range(n_epochs+1):\n",
    "    for iteration in range(mnist.train.num_examples // batch_size):\n",
    "        \n",
    "        X_batch, y_batch = mnist.train.next_batch(batch_size)\n",
    "        X_batch = X_batch.reshape([-1, 28, 28, 1])\n",
    "        (_, cost, prediction) = sess.run([train_op, loss, preds], \n",
    "                                                    feed_dict={images: X_batch, labels: y_batch})\n",
    "        duration = time.time() - start_time\n",
    "        sec_per_batch = float(duration)\n",
    "    \n",
    "    ## Training accuracy every one epoch\n",
    "    acc_train = accuracy.eval(session=sess, feed_dict={images: X_batch, labels: np.argmax(y_batch, axis=1)})\n",
    "    if epoch % 1 == 0:\n",
    "        print('  [*] TRAINING Iteration %d, Loss: %.4f, Acc: %.4f (duration: %.3fs)'\n",
    "                             % (epoch, cost, acc_train, sec_per_batch))\n",
    "\n",
    "    ## Validation accuracy every 5 epochs\n",
    "    if epoch % 5 == 0:\n",
    "        acc_val = accuracy.eval(session=sess, feed_dict={images: val_images, labels: np.argmax(val_labels, axis=1)})\n",
    "        print('  [*] VALIDATION ACC: %.3f' % acc_val)\n",
    "\n",
    "print('Optimization done.')"
   ]
  },
  {
   "cell_type": "markdown",
   "metadata": {},
   "source": [
    "# 4. Test a model"
   ]
  },
  {
   "cell_type": "markdown",
   "metadata": {},
   "source": [
    "### Load the test images and labels"
   ]
  },
  {
   "cell_type": "code",
   "execution_count": 14,
   "metadata": {},
   "outputs": [
    {
     "name": "stdout",
     "output_type": "stream",
     "text": [
      "\n",
      "One-hot labels for this image:\n",
      "[0. 0. 0. 0. 0. 0. 0. 1. 0. 0.]\n"
     ]
    },
    {
     "data": {
      "image/png": "[encoded data removed]",
      "text/plain": [
       "<Figure size 432x288 with 1 Axes>"
      ]
     },
     "metadata": {
      "needs_background": "light"
     },
     "output_type": "display_data"
    }
   ],
   "source": [
    "## READ MNIST INPUTS\n",
    "test_images = mnist.test.images\n",
    "test_labels = mnist.test.labels\n",
    "test_images = test_images.reshape([-1, 28, 28, 1])\n",
    "\n",
    "## Plot the 1st test image and label\n",
    "plt.imshow(test_images[0,:,:,0], cmap='Greys')\n",
    "print(\"\\nOne-hot labels for this image:\")\n",
    "print(test_labels[0])"
   ]
  },
  {
   "cell_type": "markdown",
   "metadata": {},
   "source": [
    "### Check the prediction for the first image"
   ]
  },
  {
   "cell_type": "code",
   "execution_count": 15,
   "metadata": {},
   "outputs": [
    {
     "name": "stdout",
     "output_type": "stream",
     "text": [
      "The prediction of the network is: 7\n"
     ]
    }
   ],
   "source": [
    "prediction = sess.run(preds, feed_dict={images: test_images[0,:,:,0].reshape(1,28,28,1), labels: test_labels[0]})\n",
    "\n",
    "print(\"The prediction of the network is: %d\" % np.argmax(prediction))"
   ]
  },
  {
   "cell_type": "markdown",
   "metadata": {},
   "source": [
    "### Average the accuray for test set"
   ]
  },
  {
   "cell_type": "code",
   "execution_count": 16,
   "metadata": {},
   "outputs": [
    {
     "name": "stdout",
     "output_type": "stream",
     "text": [
      "Acc: 0.981\n"
     ]
    }
   ],
   "source": [
    "test_acc = accuracy.eval(session=sess, feed_dict={images: test_images, labels: np.argmax(test_labels, axis=1)})\n",
    "print('Acc: %.3f' % test_acc)"
   ]
  },
  {
   "cell_type": "code",
   "execution_count": 17,
   "metadata": {},
   "outputs": [
    {
     "name": "stdout",
     "output_type": "stream",
     "text": [
      "The number of parameters: 178710\n"
     ]
    }
   ],
   "source": [
    "n_parameters = 0\n",
    "for var in tf.trainable_variables():\n",
    "    n_parameters += tf.size(var)\n",
    "n_dnn = sess.run(n_parameters)\n",
    "print(\"The number of parameters: %d\" % n_dnn)"
   ]
  },
  {
   "cell_type": "code",
   "execution_count": 18,
   "metadata": {},
   "outputs": [],
   "source": [
    "sess.close()\n",
    "tf.reset_default_graph()"
   ]
  }
 ],
 "metadata": {
  "kernelspec": {
   "display_name": "Python 3",
   "language": "python",
   "name": "python3"
  },
  "language_info": {
   "codemirror_mode": {
    "name": "ipython",
    "version": 3
   },
   "file_extension": ".py",
   "mimetype": "text/x-python",
   "name": "python",
   "nbconvert_exporter": "python",
   "pygments_lexer": "ipython3",
   "version": "3.6.7"
  }
 },
 "nbformat": 4,
 "nbformat_minor": 2
}
